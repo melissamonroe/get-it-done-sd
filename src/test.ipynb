{
 "cells": [
  {
   "cell_type": "code",
   "execution_count": 1,
   "metadata": {},
   "outputs": [],
   "source": [
    "# Dependencies\r\n",
    "import requests\r\n",
    "import pymongo\r\n",
    "import dns\r\n",
    "import datetime\r\n",
    "from datetime import datetime\r\n",
    "from dateutil import parser\r\n",
    "import pytz\r\n",
    "from django.utils import timezone\r\n",
    "from time import sleep\r\n",
    "import random\r\n",
    "import json\r\n",
    "import config\r\n",
    "import requests\r\n",
    "from flask_cors import CORS\r\n",
    "import os\r\n",
    "import csv\r\n",
    "\r\n",
    "\r\n",
    "# Project defined dependencies\r\n",
    "import config\r\n",
    "from pprint import pprint\r\n",
    "# import cl_parser\r\n"
   ]
  },
  {
   "cell_type": "code",
   "execution_count": 2,
   "metadata": {},
   "outputs": [],
   "source": [
    "# Initialize PyMongo to work with MongoDBs\r\n",
    "client = pymongo.MongoClient(config.mongo_conn)\r\n",
    "# Define database and collection\r\n",
    "db = client.getitdone_db\r\n",
    "SR_collection = db.sandiego\r\n",
    "summary_collection = db.summary_counts"
   ]
  },
  {
   "cell_type": "code",
   "execution_count": 3,
   "metadata": {},
   "outputs": [
    {
     "name": "stdout",
     "output_type": "stream",
     "text": [
      "2021-01-01 08:00:00+00:00 2022-01-01 08:00:00+00:00\n",
      "90777 52863\n",
      "1193134\n"
     ]
    }
   ],
   "source": [
    "year = 2021\r\n",
    "local = pytz.timezone(\"America/Los_Angeles\")\r\n",
    "dt_start = datetime.strptime(str(year) + \"-1-1 00:00:00\", \"%Y-%m-%d %H:%M:%S\")\r\n",
    "dt_start_local = local.localize(dt_start, is_dst=None)\r\n",
    "dt_start_utc = dt_start_local.astimezone(pytz.utc)\r\n",
    "\r\n",
    "dt_end = datetime.strptime(str(year + 1) +\"-1-1 00:00:00\", \"%Y-%m-%d %H:%M:%S\")\r\n",
    "dt_end_local = local.localize(dt_end, is_dst=None)\r\n",
    "dt_end_utc = dt_end_local.astimezone(pytz.utc)\r\n",
    "\r\n",
    "filter_requested ={\r\n",
    "    'date_requested': {\r\n",
    "        '$gte': dt_start_utc, \r\n",
    "        '$lt': dt_end_utc\r\n",
    "    }\r\n",
    "}\r\n",
    "filter_closed ={\r\n",
    "    'date_requested': {\r\n",
    "        '$gte': dt_start_utc, \r\n",
    "        '$lt': dt_end_utc\r\n",
    "    }, 'status':\"Closed\"\r\n",
    "}\r\n",
    "\r\n",
    "\r\n",
    "total_requested = SR_collection.count_documents(filter=filter_requested)\r\n",
    "\r\n",
    "sum_case_age_days = 0\r\n",
    "for SR in SR_collection.find(filter=filter_requested):\r\n",
    "    if 'case_age_days' in SR:\r\n",
    "        sum_case_age_days += int(SR[\"case_age_days\"])\r\n",
    "\r\n",
    "total_closed = SR_collection.count_documents(filter=filter_closed)\r\n",
    "\r\n",
    "print(dt_start_utc, dt_end_utc)\r\n",
    "print(total_requested, total_closed)\r\n",
    "print(sum_case_age_days)"
   ]
  },
  {
   "cell_type": "code",
   "execution_count": 4,
   "metadata": {},
   "outputs": [],
   "source": [
    "            update_doc = summary_collection.find_one_and_update(\r\n",
    "                {'year' : year},\r\n",
    "                {'$set':\r\n",
    "                    {\r\n",
    "                        \"total_requested\":int(total_requested),\r\n",
    "                        \"total_closed\":int(total_closed),\r\n",
    "                        \"percent_closed\": float(total_closed/total_requested),\r\n",
    "                        \"average_case_age_days\": float(sum_case_age_days/total_requested)\r\n",
    "                        \r\n",
    "                    }\r\n",
    "                    \r\n",
    "                },upsert=True\r\n",
    "            )"
   ]
  },
  {
   "cell_type": "code",
   "execution_count": 12,
   "metadata": {},
   "outputs": [],
   "source": [
    "filter={\r\n",
    "    'date_requested': {\r\n",
    "        '$gte': dt_start_utc, \r\n",
    "        '$lt': dt_end_utc\r\n",
    "    }\r\n",
    "}\r\n",
    "\r\n",
    "result = client['getitdone_db']['sandiego'].find(filter=filter)"
   ]
  },
  {
   "cell_type": "code",
   "execution_count": 13,
   "metadata": {},
   "outputs": [
    {
     "name": "stdout",
     "output_type": "stream",
     "text": [
      "2021-01-01 08:00:00+00:00 2022-01-01 08:00:00+00:00\n"
     ]
    }
   ],
   "source": [
    "print(dt_start_utc,dt_end_utc)"
   ]
  },
  {
   "cell_type": "code",
   "execution_count": 14,
   "metadata": {},
   "outputs": [],
   "source": [
    "i = 0\r\n",
    "date_requested_count = {}  \r\n",
    "date_closed_count = {}\r\n",
    "\r\n",
    "for SR in result:\r\n",
    "    \r\n",
    "    if 'date_requested' in SR:            \r\n",
    "        date_requested_month = SR['date_requested'].month     \r\n",
    "        if (date_requested_month in date_requested_count):\r\n",
    "            date_requested_count[date_requested_month] += 1        \r\n",
    "        else:\r\n",
    "            date_requested_count[date_requested_month] = 1            \r\n",
    "    if 'date_closed' in SR:\r\n",
    "        date_closed_month = SR['date_closed'].month     \r\n",
    "        if (date_closed_month in date_closed_count):\r\n",
    "            date_closed_count[date_closed_month] += 1        \r\n",
    "        else:\r\n",
    "            date_closed_count[date_closed_month] = 1 \r\n",
    "\r\n",
    "    # i += 1\r\n",
    "    # if i > 5:\r\n",
    "    #     break"
   ]
  },
  {
   "cell_type": "code",
   "execution_count": 15,
   "metadata": {},
   "outputs": [
    {
     "data": {
      "text/plain": "{1: 30506, 2: 28203, 3: 32872, 4: 143}"
     },
     "execution_count": 15,
     "metadata": {},
     "output_type": "execute_result"
    }
   ],
   "source": [
    "date_requested_count"
   ]
  },
  {
   "cell_type": "code",
   "execution_count": null,
   "metadata": {},
   "outputs": [],
   "source": []
  }
 ],
 "metadata": {
  "kernelspec": {
   "display_name": "Python 3.8.5 64-bit ('base': conda)",
   "name": "python385jvsc74a57bd0081b6216928d55ece203d92fdcd5214719477f63e022b6b86f3f62fef0361037"
  },
  "language_info": {
   "codemirror_mode": {
    "name": "ipython",
    "version": 3
   },
   "file_extension": ".py",
   "mimetype": "text/x-python",
   "name": "python",
   "nbconvert_exporter": "python",
   "pygments_lexer": "ipython3",
   "version": "3.8.5"
  },
  "orig_nbformat": 2
 },
 "nbformat": 4,
 "nbformat_minor": 2
}