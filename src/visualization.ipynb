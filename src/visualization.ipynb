{
 "cells": [
  {
   "cell_type": "code",
   "execution_count": 29,
   "metadata": {},
   "outputs": [],
   "source": [
    "from matplotlib import pyplot as plt\r\n",
    "import numpy as np\r\n",
    "import scipy.stats as stats\r\n",
    "import pandas as pd\r\n",
    "\r\n",
    "# Project defined modules\r\n",
    "import config\r\n",
    "import visualization as viz"
   ]
  },
  {
   "cell_type": "code",
   "execution_count": 30,
   "metadata": {},
   "outputs": [
    {
     "data": {
      "text/html": "<div>\n<style scoped>\n    .dataframe tbody tr th:only-of-type {\n        vertical-align: middle;\n    }\n\n    .dataframe tbody tr th {\n        vertical-align: top;\n    }\n\n    .dataframe thead th {\n        text-align: right;\n    }\n</style>\n<table border=\"1\" class=\"dataframe\">\n  <thead>\n    <tr style=\"text-align: right;\">\n      <th></th>\n      <th>date_requested</th>\n      <th>case_age_days</th>\n      <th>service_name</th>\n      <th>case_record_type</th>\n      <th>date_closed</th>\n      <th>status</th>\n      <th>lat</th>\n      <th>lng</th>\n      <th>street_address</th>\n      <th>council_district</th>\n      <th>comm_plan_code</th>\n      <th>comm_plan_name</th>\n      <th>case_origin</th>\n      <th>public_description</th>\n    </tr>\n  </thead>\n  <tbody>\n    <tr>\n      <th>0</th>\n      <td>2021-01-01 08:23:00</td>\n      <td>28</td>\n      <td>Container Left Out</td>\n      <td>ESD Complaint/Report</td>\n      <td>2021-01-29 08:00:00</td>\n      <td>Closed</td>\n      <td>32.749028</td>\n      <td>-117.240578</td>\n      <td>4673 Lotus St</td>\n      <td>2.0</td>\n      <td>23.0</td>\n      <td>Ocean Beach</td>\n      <td>Mobile</td>\n      <td>2nd report. Tenant has kept containers out sin...</td>\n    </tr>\n    <tr>\n      <th>2</th>\n      <td>2021-01-01 08:35:00</td>\n      <td>56</td>\n      <td>Missed Collection</td>\n      <td>ESD Complaint/Report</td>\n      <td>2021-02-26 08:00:00</td>\n      <td>Closed</td>\n      <td>32.906864</td>\n      <td>-117.136154</td>\n      <td>8721 Belfast Cir</td>\n      <td>6.0</td>\n      <td>15.0</td>\n      <td>Mira Mesa</td>\n      <td>Mobile</td>\n      <td>Missed collection</td>\n    </tr>\n    <tr>\n      <th>6</th>\n      <td>2021-01-01 09:10:00</td>\n      <td>3</td>\n      <td>Encampment</td>\n      <td>Neighborhood Policing</td>\n      <td>2021-01-04 08:00:00</td>\n      <td>Closed</td>\n      <td>32.751725</td>\n      <td>-117.066742</td>\n      <td>4000?4088 60th St</td>\n      <td>4.0</td>\n      <td>57.0</td>\n      <td>Mid-City:Eastern Area</td>\n      <td>Mobile</td>\n      <td>White Motor home</td>\n    </tr>\n    <tr>\n      <th>12</th>\n      <td>2021-01-01 13:18:00</td>\n      <td>47</td>\n      <td>Missed Collection</td>\n      <td>ESD Complaint/Report</td>\n      <td>2021-02-17 08:00:00</td>\n      <td>Closed</td>\n      <td>32.749952</td>\n      <td>-117.126247</td>\n      <td>3973 Iowa St</td>\n      <td>3.0</td>\n      <td>28.0</td>\n      <td>North Park</td>\n      <td>Mobile</td>\n      <td>Black trash can not picked up for my address o...</td>\n    </tr>\n    <tr>\n      <th>13</th>\n      <td>2021-01-01 13:50:00</td>\n      <td>47</td>\n      <td>Missed Collection</td>\n      <td>ESD Complaint/Report</td>\n      <td>2021-02-17 08:00:00</td>\n      <td>Closed</td>\n      <td>32.820533</td>\n      <td>-117.218244</td>\n      <td>3050 Driscoll Dr</td>\n      <td>2.0</td>\n      <td>6.0</td>\n      <td>Clairemont Mesa</td>\n      <td>Mobile</td>\n      <td>Had blue bin out all Wednesday never picked up...</td>\n    </tr>\n  </tbody>\n</table>\n</div>",
      "text/plain": "        date_requested  case_age_days        service_name  \\\n0  2021-01-01 08:23:00             28  Container Left Out   \n2  2021-01-01 08:35:00             56   Missed Collection   \n6  2021-01-01 09:10:00              3          Encampment   \n12 2021-01-01 13:18:00             47   Missed Collection   \n13 2021-01-01 13:50:00             47   Missed Collection   \n\n         case_record_type         date_closed  status        lat         lng  \\\n0    ESD Complaint/Report 2021-01-29 08:00:00  Closed  32.749028 -117.240578   \n2    ESD Complaint/Report 2021-02-26 08:00:00  Closed  32.906864 -117.136154   \n6   Neighborhood Policing 2021-01-04 08:00:00  Closed  32.751725 -117.066742   \n12   ESD Complaint/Report 2021-02-17 08:00:00  Closed  32.749952 -117.126247   \n13   ESD Complaint/Report 2021-02-17 08:00:00  Closed  32.820533 -117.218244   \n\n       street_address  council_district  comm_plan_code  \\\n0       4673 Lotus St               2.0            23.0   \n2    8721 Belfast Cir               6.0            15.0   \n6   4000?4088 60th St               4.0            57.0   \n12       3973 Iowa St               3.0            28.0   \n13   3050 Driscoll Dr               2.0             6.0   \n\n           comm_plan_name case_origin  \\\n0             Ocean Beach      Mobile   \n2               Mira Mesa      Mobile   \n6   Mid-City:Eastern Area      Mobile   \n12             North Park      Mobile   \n13        Clairemont Mesa      Mobile   \n\n                                   public_description  \n0   2nd report. Tenant has kept containers out sin...  \n2                                   Missed collection  \n6                                    White Motor home  \n12  Black trash can not picked up for my address o...  \n13  Had blue bin out all Wednesday never picked up...  "
     },
     "execution_count": 30,
     "metadata": {},
     "output_type": "execute_result"
    }
   ],
   "source": [
    "# Create visualization object\r\n",
    "visuals = viz.Visualizer()\r\n",
    "base_df = visuals.get_clean_data()\r\n",
    "base_df.head(5)"
   ]
  },
  {
   "cell_type": "code",
   "execution_count": 31,
   "metadata": {},
   "outputs": [
    {
     "data": {
      "text/html": "<div>\n<style scoped>\n    .dataframe tbody tr th:only-of-type {\n        vertical-align: middle;\n    }\n\n    .dataframe tbody tr th {\n        vertical-align: top;\n    }\n\n    .dataframe thead th {\n        text-align: right;\n    }\n</style>\n<table border=\"1\" class=\"dataframe\">\n  <thead>\n    <tr style=\"text-align: right;\">\n      <th></th>\n      <th>date_requested</th>\n      <th>case_age_days</th>\n      <th>service_name</th>\n      <th>case_record_type</th>\n      <th>date_closed</th>\n      <th>status</th>\n      <th>lat</th>\n      <th>lng</th>\n      <th>street_address</th>\n      <th>council_district</th>\n      <th>comm_plan_code</th>\n      <th>comm_plan_name</th>\n      <th>case_origin</th>\n      <th>public_description</th>\n    </tr>\n  </thead>\n  <tbody>\n    <tr>\n      <th>0</th>\n      <td>2021-01-01 08:23:00</td>\n      <td>28</td>\n      <td>Container Left Out</td>\n      <td>ESD Complaint/Report</td>\n      <td>2021-01-29 08:00:00</td>\n      <td>Closed</td>\n      <td>32.749028</td>\n      <td>-117.240578</td>\n      <td>4673 Lotus St</td>\n      <td>2.0</td>\n      <td>23.0</td>\n      <td>Ocean Beach</td>\n      <td>Mobile</td>\n      <td>2nd report. Tenant has kept containers out sin...</td>\n    </tr>\n    <tr>\n      <th>2</th>\n      <td>2021-01-01 08:35:00</td>\n      <td>56</td>\n      <td>Missed Collection</td>\n      <td>ESD Complaint/Report</td>\n      <td>2021-02-26 08:00:00</td>\n      <td>Closed</td>\n      <td>32.906864</td>\n      <td>-117.136154</td>\n      <td>8721 Belfast Cir</td>\n      <td>6.0</td>\n      <td>15.0</td>\n      <td>Mira Mesa</td>\n      <td>Mobile</td>\n      <td>Missed collection</td>\n    </tr>\n    <tr>\n      <th>6</th>\n      <td>2021-01-01 09:10:00</td>\n      <td>3</td>\n      <td>Encampment</td>\n      <td>Neighborhood Policing</td>\n      <td>2021-01-04 08:00:00</td>\n      <td>Closed</td>\n      <td>32.751725</td>\n      <td>-117.066742</td>\n      <td>4000?4088 60th St</td>\n      <td>4.0</td>\n      <td>57.0</td>\n      <td>Mid-City:Eastern Area</td>\n      <td>Mobile</td>\n      <td>White Motor home</td>\n    </tr>\n    <tr>\n      <th>12</th>\n      <td>2021-01-01 13:18:00</td>\n      <td>47</td>\n      <td>Missed Collection</td>\n      <td>ESD Complaint/Report</td>\n      <td>2021-02-17 08:00:00</td>\n      <td>Closed</td>\n      <td>32.749952</td>\n      <td>-117.126247</td>\n      <td>3973 Iowa St</td>\n      <td>3.0</td>\n      <td>28.0</td>\n      <td>North Park</td>\n      <td>Mobile</td>\n      <td>Black trash can not picked up for my address o...</td>\n    </tr>\n    <tr>\n      <th>13</th>\n      <td>2021-01-01 13:50:00</td>\n      <td>47</td>\n      <td>Missed Collection</td>\n      <td>ESD Complaint/Report</td>\n      <td>2021-02-17 08:00:00</td>\n      <td>Closed</td>\n      <td>32.820533</td>\n      <td>-117.218244</td>\n      <td>3050 Driscoll Dr</td>\n      <td>2.0</td>\n      <td>6.0</td>\n      <td>Clairemont Mesa</td>\n      <td>Mobile</td>\n      <td>Had blue bin out all Wednesday never picked up...</td>\n    </tr>\n    <tr>\n      <th>...</th>\n      <td>...</td>\n      <td>...</td>\n      <td>...</td>\n      <td>...</td>\n      <td>...</td>\n      <td>...</td>\n      <td>...</td>\n      <td>...</td>\n      <td>...</td>\n      <td>...</td>\n      <td>...</td>\n      <td>...</td>\n      <td>...</td>\n      <td>...</td>\n    </tr>\n    <tr>\n      <th>666411</th>\n      <td>2019-12-11 16:37:00</td>\n      <td>6</td>\n      <td>Paint Curb - Maintain</td>\n      <td>TSW</td>\n      <td>2019-12-17 08:00:00</td>\n      <td>Closed</td>\n      <td>32.753684</td>\n      <td>-117.247819</td>\n      <td>Abbott St</td>\n      <td>2.0</td>\n      <td>23.0</td>\n      <td>Ocean Beach</td>\n      <td>Mobile</td>\n      <td>This no dumping paint got missed. It's now a w...</td>\n    </tr>\n    <tr>\n      <th>667404</th>\n      <td>2019-12-12 17:20:00</td>\n      <td>4</td>\n      <td>Guardrails/Barrier Metal/Wooden</td>\n      <td>TSW</td>\n      <td>2019-12-16 08:00:00</td>\n      <td>Closed</td>\n      <td>32.805555</td>\n      <td>-117.062387</td>\n      <td>7565 Clear Sky Rd, San Diego, Ca 92120, Usa</td>\n      <td>7.0</td>\n      <td>20.0</td>\n      <td>Navajo</td>\n      <td>Mobile</td>\n      <td>Rain water erosion, blocking path.</td>\n    </tr>\n    <tr>\n      <th>668026</th>\n      <td>2019-12-12 23:29:00</td>\n      <td>4</td>\n      <td>Tree/Limb Fallen/Hanging</td>\n      <td>TSW</td>\n      <td>2019-12-16 08:00:00</td>\n      <td>Closed</td>\n      <td>32.712100</td>\n      <td>-117.167458</td>\n      <td>650 Columbia St</td>\n      <td>3.0</td>\n      <td>4.0</td>\n      <td>Downtown</td>\n      <td>Mobile</td>\n      <td>Downed tree branches</td>\n    </tr>\n    <tr>\n      <th>675232</th>\n      <td>2019-12-22 00:20:00</td>\n      <td>55</td>\n      <td>ENGINEERING - TRAFFIC SAFETY REQUEST FOR INFOR...</td>\n      <td>Traffic Engineering</td>\n      <td>2020-02-14 08:00:00</td>\n      <td>Closed</td>\n      <td>32.785328</td>\n      <td>-117.110317</td>\n      <td>Rancho Mission Rd &amp; San Diego Mission Rd</td>\n      <td>7.0</td>\n      <td>19.0</td>\n      <td>Mission Valley</td>\n      <td>Web</td>\n      <td>Please, I need to know the grade of the Rancho...</td>\n    </tr>\n    <tr>\n      <th>677722</th>\n      <td>2019-12-26 19:23:00</td>\n      <td>27</td>\n      <td>DRAIN HEADWALL EROSION/SCOUR</td>\n      <td>TSW</td>\n      <td>2020-01-22 08:00:00</td>\n      <td>Closed</td>\n      <td>32.721347</td>\n      <td>-117.120981</td>\n      <td>3370 Beech St</td>\n      <td>3.0</td>\n      <td>8.0</td>\n      <td>Greater Golden Hill</td>\n      <td>Mobile</td>\n      <td>Going on 3 years now. Wondering if the whole h...</td>\n    </tr>\n  </tbody>\n</table>\n<p>783 rows × 14 columns</p>\n</div>",
      "text/plain": "            date_requested  case_age_days  \\\n0      2021-01-01 08:23:00             28   \n2      2021-01-01 08:35:00             56   \n6      2021-01-01 09:10:00              3   \n12     2021-01-01 13:18:00             47   \n13     2021-01-01 13:50:00             47   \n...                    ...            ...   \n666411 2019-12-11 16:37:00              6   \n667404 2019-12-12 17:20:00              4   \n668026 2019-12-12 23:29:00              4   \n675232 2019-12-22 00:20:00             55   \n677722 2019-12-26 19:23:00             27   \n\n                                             service_name  \\\n0                                      Container Left Out   \n2                                       Missed Collection   \n6                                              Encampment   \n12                                      Missed Collection   \n13                                      Missed Collection   \n...                                                   ...   \n666411                              Paint Curb - Maintain   \n667404                    Guardrails/Barrier Metal/Wooden   \n668026                           Tree/Limb Fallen/Hanging   \n675232  ENGINEERING - TRAFFIC SAFETY REQUEST FOR INFOR...   \n677722                       DRAIN HEADWALL EROSION/SCOUR   \n\n             case_record_type         date_closed  status        lat  \\\n0        ESD Complaint/Report 2021-01-29 08:00:00  Closed  32.749028   \n2        ESD Complaint/Report 2021-02-26 08:00:00  Closed  32.906864   \n6       Neighborhood Policing 2021-01-04 08:00:00  Closed  32.751725   \n12       ESD Complaint/Report 2021-02-17 08:00:00  Closed  32.749952   \n13       ESD Complaint/Report 2021-02-17 08:00:00  Closed  32.820533   \n...                       ...                 ...     ...        ...   \n666411                    TSW 2019-12-17 08:00:00  Closed  32.753684   \n667404                    TSW 2019-12-16 08:00:00  Closed  32.805555   \n668026                    TSW 2019-12-16 08:00:00  Closed  32.712100   \n675232    Traffic Engineering 2020-02-14 08:00:00  Closed  32.785328   \n677722                    TSW 2020-01-22 08:00:00  Closed  32.721347   \n\n               lng                               street_address  \\\n0      -117.240578                                4673 Lotus St   \n2      -117.136154                             8721 Belfast Cir   \n6      -117.066742                            4000?4088 60th St   \n12     -117.126247                                 3973 Iowa St   \n13     -117.218244                             3050 Driscoll Dr   \n...            ...                                          ...   \n666411 -117.247819                                    Abbott St   \n667404 -117.062387  7565 Clear Sky Rd, San Diego, Ca 92120, Usa   \n668026 -117.167458                              650 Columbia St   \n675232 -117.110317     Rancho Mission Rd & San Diego Mission Rd   \n677722 -117.120981                                3370 Beech St   \n\n        council_district  comm_plan_code         comm_plan_name case_origin  \\\n0                    2.0            23.0            Ocean Beach      Mobile   \n2                    6.0            15.0              Mira Mesa      Mobile   \n6                    4.0            57.0  Mid-City:Eastern Area      Mobile   \n12                   3.0            28.0             North Park      Mobile   \n13                   2.0             6.0        Clairemont Mesa      Mobile   \n...                  ...             ...                    ...         ...   \n666411               2.0            23.0            Ocean Beach      Mobile   \n667404               7.0            20.0                 Navajo      Mobile   \n668026               3.0             4.0               Downtown      Mobile   \n675232               7.0            19.0         Mission Valley         Web   \n677722               3.0             8.0    Greater Golden Hill      Mobile   \n\n                                       public_description  \n0       2nd report. Tenant has kept containers out sin...  \n2                                       Missed collection  \n6                                        White Motor home  \n12      Black trash can not picked up for my address o...  \n13      Had blue bin out all Wednesday never picked up...  \n...                                                   ...  \n666411  This no dumping paint got missed. It's now a w...  \n667404                 Rain water erosion, blocking path.  \n668026                               Downed tree branches  \n675232  Please, I need to know the grade of the Rancho...  \n677722  Going on 3 years now. Wondering if the whole h...  \n\n[783 rows x 14 columns]"
     },
     "execution_count": 31,
     "metadata": {},
     "output_type": "execute_result"
    }
   ],
   "source": [
    "grouped_service_name_df = base_df.groupby([\"service_name\"])\r\n",
    "    \r\n",
    "grouped_service_name_df.head()"
   ]
  },
  {
   "cell_type": "code",
   "execution_count": 32,
   "metadata": {},
   "outputs": [],
   "source": [
    "SR_count = grouped_service_name_df[\"service_name\"].count()"
   ]
  },
  {
   "cell_type": "code",
   "execution_count": 33,
   "metadata": {},
   "outputs": [
    {
     "data": {
      "text/html": "<div>\n<style scoped>\n    .dataframe tbody tr th:only-of-type {\n        vertical-align: middle;\n    }\n\n    .dataframe tbody tr th {\n        vertical-align: top;\n    }\n\n    .dataframe thead th {\n        text-align: right;\n    }\n</style>\n<table border=\"1\" class=\"dataframe\">\n  <thead>\n    <tr style=\"text-align: right;\">\n      <th></th>\n      <th>Service Name</th>\n      <th>Count</th>\n    </tr>\n    <tr>\n      <th>service_name</th>\n      <th></th>\n      <th></th>\n    </tr>\n  </thead>\n  <tbody>\n    <tr>\n      <th>--Select Answer--</th>\n      <td>[--Select Answer--]</td>\n      <td>1</td>\n    </tr>\n    <tr>\n      <th>72 Hour Violation</th>\n      <td>[72 Hour Violation]</td>\n      <td>65486</td>\n    </tr>\n    <tr>\n      <th>ADMIN - Referral</th>\n      <td>[ADMIN - Referral]</td>\n      <td>2</td>\n    </tr>\n    <tr>\n      <th>AVA</th>\n      <td>[AVA]</td>\n      <td>33</td>\n    </tr>\n    <tr>\n      <th>CHANNEL BROKEN</th>\n      <td>[CHANNEL BROKEN]</td>\n      <td>5</td>\n    </tr>\n    <tr>\n      <th>...</th>\n      <td>...</td>\n      <td>...</td>\n    </tr>\n    <tr>\n      <th>Vegetation Encroachment</th>\n      <td>[Vegetation Encroachment]</td>\n      <td>2271</td>\n    </tr>\n    <tr>\n      <th>Vehicle Accident</th>\n      <td>[Vehicle Accident]</td>\n      <td>4</td>\n    </tr>\n    <tr>\n      <th>WATERSHED</th>\n      <td>[WATERSHED]</td>\n      <td>1</td>\n    </tr>\n    <tr>\n      <th>WATERSHED MONITORING/ASSESSMENT</th>\n      <td>[WATERSHED MONITORING/ASSESSMENT]</td>\n      <td>1</td>\n    </tr>\n    <tr>\n      <th>Waste on Private Property</th>\n      <td>[Waste on Private Property]</td>\n      <td>5480</td>\n    </tr>\n  </tbody>\n</table>\n<p>209 rows × 2 columns</p>\n</div>",
      "text/plain": "                                                      Service Name  Count\nservice_name                                                             \n--Select Answer--                              [--Select Answer--]      1\n72 Hour Violation                              [72 Hour Violation]  65486\nADMIN - Referral                                [ADMIN - Referral]      2\nAVA                                                          [AVA]     33\nCHANNEL BROKEN                                    [CHANNEL BROKEN]      5\n...                                                            ...    ...\nVegetation Encroachment                  [Vegetation Encroachment]   2271\nVehicle Accident                                [Vehicle Accident]      4\nWATERSHED                                              [WATERSHED]      1\nWATERSHED MONITORING/ASSESSMENT  [WATERSHED MONITORING/ASSESSMENT]      1\nWaste on Private Property              [Waste on Private Property]   5480\n\n[209 rows x 2 columns]"
     },
     "execution_count": 33,
     "metadata": {},
     "output_type": "execute_result"
    }
   ],
   "source": [
    "# Assemble the resulting series into a single summary dataframe.\r\n",
    "\r\n",
    "summary_stats_df = pd.DataFrame({\r\n",
    "        \"Service Name\": grouped_service_name_df[\"service_name\"].unique(),\r\n",
    "        \"Count\": SR_count    \r\n",
    "    })\r\n",
    "summary_stats_df\r\n",
    "\r\n",
    "\r\n"
   ]
  },
  {
   "cell_type": "code",
   "execution_count": 34,
   "metadata": {},
   "outputs": [],
   "source": [
    "  summary_stats_sorted_df = summary_stats_df.sort_values(['Count'], ascending=False)                             "
   ]
  },
  {
   "cell_type": "code",
   "execution_count": 35,
   "metadata": {},
   "outputs": [
    {
     "data": {
      "text/html": "<div>\n<style scoped>\n    .dataframe tbody tr th:only-of-type {\n        vertical-align: middle;\n    }\n\n    .dataframe tbody tr th {\n        vertical-align: top;\n    }\n\n    .dataframe thead th {\n        text-align: right;\n    }\n</style>\n<table border=\"1\" class=\"dataframe\">\n  <thead>\n    <tr style=\"text-align: right;\">\n      <th></th>\n      <th>Service Name</th>\n      <th>Count</th>\n    </tr>\n    <tr>\n      <th>service_name</th>\n      <th></th>\n      <th></th>\n    </tr>\n  </thead>\n  <tbody>\n    <tr>\n      <th>Illegal Dumping</th>\n      <td>[Illegal Dumping]</td>\n      <td>76864</td>\n    </tr>\n    <tr>\n      <th>72 Hour Violation</th>\n      <td>[72 Hour Violation]</td>\n      <td>65486</td>\n    </tr>\n    <tr>\n      <th>Missed Collection</th>\n      <td>[Missed Collection]</td>\n      <td>52885</td>\n    </tr>\n    <tr>\n      <th>Encampment</th>\n      <td>[Encampment]</td>\n      <td>28291</td>\n    </tr>\n    <tr>\n      <th>Shared Mobility Device</th>\n      <td>[Shared Mobility Device]</td>\n      <td>23836</td>\n    </tr>\n  </tbody>\n</table>\n</div>",
      "text/plain": "                                    Service Name  Count\nservice_name                                           \nIllegal Dumping                [Illegal Dumping]  76864\n72 Hour Violation            [72 Hour Violation]  65486\nMissed Collection            [Missed Collection]  52885\nEncampment                          [Encampment]  28291\nShared Mobility Device  [Shared Mobility Device]  23836"
     },
     "execution_count": 35,
     "metadata": {},
     "output_type": "execute_result"
    }
   ],
   "source": [
    "summary_stats_sorted_df.head()"
   ]
  },
  {
   "cell_type": "code",
   "execution_count": null,
   "metadata": {},
   "outputs": [],
   "source": []
  }
 ],
 "metadata": {
  "kernelspec": {
   "display_name": "Python 3.8.5 64-bit ('base': conda)",
   "metadata": {
    "interpreter": {
     "hash": "081b6216928d55ece203d92fdcd5214719477f63e022b6b86f3f62fef0361037"
    }
   },
   "name": "python3"
  },
  "language_info": {
   "codemirror_mode": {
    "name": "ipython",
    "version": 3
   },
   "file_extension": ".py",
   "mimetype": "text/x-python",
   "name": "python",
   "nbconvert_exporter": "python",
   "pygments_lexer": "ipython3",
   "version": "3.8.5"
  },
  "orig_nbformat": 2
 },
 "nbformat": 4,
 "nbformat_minor": 2
}