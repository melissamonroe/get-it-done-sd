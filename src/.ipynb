{
 "cells": [
  {
   "cell_type": "code",
   "execution_count": 1,
   "metadata": {},
   "outputs": [],
   "source": [
    "%load_ext autoreload\r\n",
    "%autoreload 2"
   ]
  },
  {
   "cell_type": "code",
   "execution_count": 2,
   "metadata": {},
   "outputs": [],
   "source": [
    "# Dependencies\r\n",
    "import requests\r\n",
    "import pymongo\r\n",
    "import dns\r\n",
    "import datetime\r\n",
    "from datetime import datetime\r\n",
    "import pytz\r\n",
    "from django.utils import timezone\r\n",
    "from time import sleep\r\n",
    "import random\r\n",
    "import json\r\n",
    "import config\r\n",
    "\r\n",
    "# Project defined dependencies\r\n",
    "import config\r\n",
    "from pprint import pprint\r\n",
    "# import cl_parser\r\n"
   ]
  },
  {
   "cell_type": "code",
   "execution_count": 3,
   "metadata": {},
   "outputs": [],
   "source": [
    "# Initialize PyMongo to work with MongoDBs\r\n",
    "client = pymongo.MongoClient(config.mongo_conn)"
   ]
  },
  {
   "cell_type": "code",
   "execution_count": 4,
   "metadata": {},
   "outputs": [],
   "source": [
    "# Define database and collection\r\n",
    "db = client.getitdone_db\r\n",
    "SR_collection = db.sandiego"
   ]
  },
  {
   "cell_type": "code",
   "execution_count": 5,
   "metadata": {},
   "outputs": [
    {
     "name": "stdout",
     "output_type": "stream",
     "text": [
      "3190603\n"
     ]
    }
   ],
   "source": [
    "for SR in SR_collection.find():\r\n",
    "    print(SR['service_request_id'])\r\n",
    "    break"
   ]
  },
  {
   "cell_type": "code",
   "execution_count": 6,
   "metadata": {},
   "outputs": [
    {
     "name": "stderr",
     "output_type": "stream",
     "text": [
      "<ipython-input-6-3c711ff63af8>:1: DeprecationWarning: count is deprecated. Use Collection.count_documents instead.\n",
      "  SR_collection.find().count()\n"
     ]
    },
    {
     "data": {
      "text/plain": "681949"
     },
     "execution_count": 6,
     "metadata": {},
     "output_type": "execute_result"
    }
   ],
   "source": [
    "SR_collection.find().count()    "
   ]
  },
  {
   "cell_type": "code",
   "execution_count": 7,
   "metadata": {},
   "outputs": [
    {
     "name": "stdout",
     "output_type": "stream",
     "text": [
      "{'_id': ObjectId('6062a328659e962620d4dcd6'), 'service_request_id': 3190603, 'date_requested': datetime.datetime(2021, 1, 1, 8, 23), 'case_age_days': 28, 'service_name': 'Container Left Out', 'case_record_type': 'ESD Complaint/Report', 'date_closed': datetime.datetime(2021, 1, 29, 8, 0), 'status': 'Closed', 'lat': 32.749027899999966, 'lng': -117.2405783, 'street_address': '4673 Lotus St', 'council_district': 2, 'comm_plan_code': 23, 'comm_plan_name': 'Ocean Beach', 'case_origin': 'Mobile', 'public_description': '2nd report. Tenant has kept containers out since move in- Nov 1. A warning sticker was placed on container by city approx 3 wks ago. Sticker torn off this week.'}\n"
     ]
    }
   ],
   "source": [
    "for SR in SR_collection.find():\r\n",
    "    print(SR)\r\n",
    "    break"
   ]
  },
  {
   "cell_type": "code",
   "execution_count": 8,
   "metadata": {},
   "outputs": [
    {
     "name": "stdout",
     "output_type": "stream",
     "text": [
      "2019-01-01 08:00:00+00:00 2020-01-01 08:00:00+00:00\n"
     ]
    }
   ],
   "source": [
    "local = pytz.timezone(\"America/Los_Angeles\")\r\n",
    "dt_start = datetime.strptime(\"2019-1-1 00:00:00\", \"%Y-%m-%d %H:%M:%S\")\r\n",
    "dt_start_local = local.localize(dt_start, is_dst=None)\r\n",
    "dt_start_utc = dt_start_local.astimezone(pytz.utc)\r\n",
    "\r\n",
    "dt_end = datetime.strptime(\"2020-1-1 00:00:00\", \"%Y-%m-%d %H:%M:%S\")\r\n",
    "dt_end_local = local.localize(dt_end, is_dst=None)\r\n",
    "dt_end_utc = dt_end_local.astimezone(pytz.utc)\r\n",
    "\r\n",
    " \r\n",
    "print(dt_start_utc, dt_end_utc)"
   ]
  },
  {
   "cell_type": "code",
   "execution_count": 9,
   "metadata": {},
   "outputs": [],
   "source": [
    "filter={\r\n",
    "    'date_requested': {\r\n",
    "        '$gte': dt_start_utc, \r\n",
    "        '$lt': dt_end_utc\r\n",
    "    }\r\n",
    "}\r\n",
    "\r\n",
    "result = client['getitdone_db']['sandiego'].find(filter=filter)"
   ]
  },
  {
   "cell_type": "code",
   "execution_count": 10,
   "metadata": {},
   "outputs": [],
   "source": [
    "i = 0\r\n",
    "date_requested_count = {}  \r\n",
    "date_closed_count = {}\r\n",
    "\r\n",
    "for SR in result:\r\n",
    "    \r\n",
    "    if 'date_requested' in SR:            \r\n",
    "        date_requested_month = SR['date_requested'].month     \r\n",
    "        if (date_requested_month in date_requested_count):\r\n",
    "            date_requested_count[date_requested_month] += 1        \r\n",
    "        else:\r\n",
    "            date_requested_count[date_requested_month] = 1            \r\n",
    "    if 'date_closed' in SR:\r\n",
    "        date_closed_month = SR['date_closed'].month     \r\n",
    "        if (date_closed_month in date_closed_count):\r\n",
    "            date_closed_count[date_closed_month] += 1        \r\n",
    "        else:\r\n",
    "            date_closed_count[date_closed_month] = 1 \r\n",
    "    \r\n",
    "    # SR['case_age_days']\r\n",
    "    # SR['service_name']\r\n",
    "    # SR['case_record_type']    \r\n",
    "    # SR['status']\r\n",
    "    # SR['lat']\r\n",
    "    # SR['lng']\r\n",
    "    # SR['street_address']\r\n",
    "    # SR['council_district']\r\n",
    "    # SR['comm_plan_code']\r\n",
    "    # SR['comm_plan_name']\r\n",
    "    # SR['case_origin']\r\n",
    "    # SR['public_description']   \r\n",
    "\r\n",
    "    # i += 1\r\n",
    "    # if i > 5:\r\n",
    "    #     break"
   ]
  },
  {
   "cell_type": "code",
   "execution_count": 11,
   "metadata": {},
   "outputs": [
    {
     "data": {
      "text/plain": "{1: 19285,\n 2: 21736,\n 3: 23412,\n 4: 23070,\n 5: 24885,\n 6: 25819,\n 7: 33100,\n 8: 34470,\n 9: 28657,\n 10: 27163,\n 11: 23375,\n 12: 24233}"
     },
     "execution_count": 11,
     "metadata": {},
     "output_type": "execute_result"
    }
   ],
   "source": [
    "date_requested_count\r\n"
   ]
  },
  {
   "cell_type": "code",
   "execution_count": 12,
   "metadata": {},
   "outputs": [
    {
     "data": {
      "text/plain": "{1: 17899,\n 7: 31756,\n 4: 22835,\n 6: 22282,\n 2: 17868,\n 3: 25208,\n 9: 26644,\n 8: 33654,\n 5: 24256,\n 10: 28882,\n 12: 22966,\n 11: 23247}"
     },
     "execution_count": 12,
     "metadata": {},
     "output_type": "execute_result"
    }
   ],
   "source": [
    "date_closed_count"
   ]
  },
  {
   "cell_type": "code",
   "execution_count": null,
   "metadata": {},
   "outputs": [],
   "source": []
  }
 ],
 "metadata": {
  "kernelspec": {
   "display_name": "Python 3.8.5 64-bit ('base': conda)",
   "metadata": {
    "interpreter": {
     "hash": "081b6216928d55ece203d92fdcd5214719477f63e022b6b86f3f62fef0361037"
    }
   },
   "name": "python3"
  },
  "language_info": {
   "codemirror_mode": {
    "name": "ipython",
    "version": 3
   },
   "file_extension": ".py",
   "mimetype": "text/x-python",
   "name": "python",
   "nbconvert_exporter": "python",
   "pygments_lexer": "ipython3",
   "version": "3.8.5"
  },
  "orig_nbformat": 2
 },
 "nbformat": 4,
 "nbformat_minor": 2
}