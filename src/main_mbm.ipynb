{
 "cells": [
  {
   "cell_type": "code",
   "execution_count": 1,
   "metadata": {},
   "outputs": [],
   "source": [
    "%load_ext autoreload\r\n",
    "%autoreload 2"
   ]
  },
  {
   "cell_type": "code",
   "execution_count": 36,
   "metadata": {},
   "outputs": [],
   "source": [
    "# Dependencies\r\n",
    "import requests\r\n",
    "import pymongo\r\n",
    "import dns\r\n",
    "import datetime\r\n",
    "from datetime import datetime\r\n",
    "import pytz\r\n",
    "from django.utils import timezone\r\n",
    "from time import sleep\r\n",
    "import random\r\n",
    "import json\r\n",
    "import config\r\n",
    "\r\n",
    "from splinter import Browser\r\n",
    "from webdriver_manager.chrome import ChromeDriverManager\r\n",
    "\r\n",
    "# Project defined dependencies\r\n",
    "import config\r\n",
    "from pprint import pprint\r\n",
    "# import cl_parser\r\n"
   ]
  },
  {
   "cell_type": "code",
   "execution_count": 3,
   "metadata": {},
   "outputs": [],
   "source": [
    "# Initialize PyMongo to work with MongoDBs\r\n",
    "client = pymongo.MongoClient(config.mongo_conn)"
   ]
  },
  {
   "cell_type": "code",
   "execution_count": 4,
   "metadata": {},
   "outputs": [],
   "source": [
    "# Define database and collection\r\n",
    "db = client.getitdone_db\r\n",
    "SR_collection = db.sandiego"
   ]
  },
  {
   "cell_type": "code",
   "execution_count": 6,
   "metadata": {},
   "outputs": [
    {
     "name": "stdout",
     "output_type": "stream",
     "text": [
      "3190603\n"
     ]
    }
   ],
   "source": [
    "for SR in SR_collection.find():\r\n",
    "    print(SR['service_request_id'])\r\n",
    "    break"
   ]
  },
  {
   "cell_type": "code",
   "execution_count": 7,
   "metadata": {},
   "outputs": [
    {
     "name": "stderr",
     "output_type": "stream",
     "text": [
      "<ipython-input-7-3c711ff63af8>:1: DeprecationWarning: count is deprecated. Use Collection.count_documents instead.\n",
      "  SR_collection.find().count()\n"
     ]
    },
    {
     "data": {
      "text/plain": "681949"
     },
     "execution_count": 7,
     "metadata": {},
     "output_type": "execute_result"
    }
   ],
   "source": [
    "SR_collection.find().count()    "
   ]
  },
  {
   "cell_type": "code",
   "execution_count": 10,
   "metadata": {},
   "outputs": [
    {
     "name": "stdout",
     "output_type": "stream",
     "text": [
      "{'_id': ObjectId('6062a328659e962620d4dcd6'), 'service_request_id': 3190603, 'date_requested': datetime.datetime(2021, 1, 1, 8, 23), 'case_age_days': 28, 'service_name': 'Container Left Out', 'case_record_type': 'ESD Complaint/Report', 'date_closed': datetime.datetime(2021, 1, 29, 8, 0), 'status': 'Closed', 'lat': 32.749027899999966, 'lng': -117.2405783, 'street_address': '4673 Lotus St', 'council_district': 2, 'comm_plan_code': 23, 'comm_plan_name': 'Ocean Beach', 'case_origin': 'Mobile', 'public_description': '2nd report. Tenant has kept containers out since move in- Nov 1. A warning sticker was placed on container by city approx 3 wks ago. Sticker torn off this week.'}\n"
     ]
    }
   ],
   "source": [
    "for SR in SR_collection.find():\r\n",
    "    print(SR)\r\n",
    "    break"
   ]
  },
  {
   "cell_type": "code",
   "execution_count": 44,
   "metadata": {},
   "outputs": [
    {
     "name": "stdout",
     "output_type": "stream",
     "text": [
      "2019-01-01 08:00:00+00:00 2020-01-01 08:00:00+00:00\n"
     ]
    }
   ],
   "source": [
    "local = pytz.timezone(\"America/Los_Angeles\")\r\n",
    "dt_start = datetime.strptime(\"2019-1-1 00:00:00\", \"%Y-%m-%d %H:%M:%S\")\r\n",
    "dt_start_local = local.localize(dt_start, is_dst=None)\r\n",
    "dt_start_utc = dt_start_local.astimezone(pytz.utc)\r\n",
    "\r\n",
    "dt_end = datetime.strptime(\"2020-1-1 00:00:00\", \"%Y-%m-%d %H:%M:%S\")\r\n",
    "dt_end_local = local.localize(dt_end, is_dst=None)\r\n",
    "dt_end_utc = dt_end_local.astimezone(pytz.utc)\r\n",
    "\r\n",
    " \r\n",
    "print(dt_start_utc, dt_end_utc)"
   ]
  },
  {
   "cell_type": "code",
   "execution_count": 48,
   "metadata": {},
   "outputs": [],
   "source": [
    "filter={\r\n",
    "    'date_requested': {\r\n",
    "        '$gte': dt_start_utc, \r\n",
    "        '$lt': dt_end_utc\r\n",
    "    }\r\n",
    "}\r\n",
    "\r\n",
    "result = client['getitdone_db']['sandiego'].find(filter=filter)"
   ]
  },
  {
   "cell_type": "code",
   "execution_count": 53,
   "metadata": {},
   "outputs": [
    {
     "name": "stdout",
     "output_type": "stream",
     "text": [
      "2475318\n",
      "2475319\n",
      "2475320\n",
      "2475321\n",
      "2475322\n",
      "2475323\n",
      "2475324\n",
      "2475325\n",
      "2475326\n",
      "2475327\n",
      "2475328\n",
      "2475329\n",
      "2475330\n",
      "2475331\n",
      "2475332\n",
      "2475333\n",
      "2475334\n",
      "2475335\n",
      "2475336\n",
      "2475337\n",
      "2475338\n",
      "2475339\n",
      "2475340\n",
      "2475341\n",
      "2475342\n",
      "2475343\n",
      "2475344\n",
      "2475345\n",
      "2475346\n",
      "2475347\n",
      "2475348\n",
      "2475349\n",
      "2475350\n",
      "2475351\n",
      "2475352\n",
      "2475353\n",
      "2475354\n",
      "2475355\n",
      "2475356\n",
      "2475357\n",
      "2475358\n",
      "2475359\n",
      "2475360\n",
      "2475361\n",
      "2475362\n",
      "2475363\n",
      "2475364\n",
      "2475365\n",
      "2475366\n",
      "2475367\n",
      "2475368\n",
      "2475369\n",
      "2475370\n",
      "2475371\n",
      "2475372\n",
      "2475373\n",
      "2475374\n",
      "2475375\n",
      "2475376\n",
      "2475377\n",
      "2475378\n",
      "2475379\n",
      "2475380\n",
      "2475381\n",
      "2475382\n",
      "2475383\n",
      "2475384\n",
      "2475385\n",
      "2475386\n",
      "2475387\n",
      "2475388\n",
      "2475389\n",
      "2475390\n",
      "2475391\n",
      "2475392\n",
      "2475393\n",
      "2475394\n",
      "2475395\n",
      "2475396\n",
      "2475397\n",
      "2475398\n",
      "2475399\n",
      "2475400\n",
      "2475402\n",
      "2475403\n",
      "2475404\n",
      "2475405\n",
      "2475406\n",
      "2475407\n",
      "2475408\n",
      "2475409\n",
      "2475410\n",
      "2475411\n",
      "2475412\n",
      "2475413\n",
      "2475414\n",
      "2475415\n",
      "2475416\n",
      "2475417\n",
      "2475418\n",
      "2475419\n"
     ]
    }
   ],
   "source": [
    "i = 0\r\n",
    "\r\n",
    "for SR in result:\r\n",
    "    print(SR['service_request_id'])\r\n",
    "    # SR['date_requested']\r\n",
    "    # SR['case_age_days']\r\n",
    "    # SR['service_name']\r\n",
    "    # SR['case_record_type']\r\n",
    "    # SR['date_closed']\r\n",
    "    # SR['status']\r\n",
    "    # SR['lat']\r\n",
    "    # SR['lng']\r\n",
    "    # SR['street_address']\r\n",
    "    # SR['council_district']\r\n",
    "    # SR['comm_plan_code']\r\n",
    "    # SR['comm_plan_name']\r\n",
    "    # SR['case_origin']\r\n",
    "    # SR['public_description']   \r\n",
    "\r\n",
    "    i += 1\r\n",
    "    if i > 100:\r\n",
    "        break"
   ]
  },
  {
   "cell_type": "code",
   "execution_count": 34,
   "metadata": {},
   "outputs": [],
   "source": [
    "\r\n",
    "\r\n",
    "\r\n"
   ]
  },
  {
   "cell_type": "code",
   "execution_count": null,
   "metadata": {},
   "outputs": [],
   "source": []
  }
 ],
 "metadata": {
  "kernelspec": {
   "display_name": "Python 3.8.5 64-bit ('base': conda)",
   "metadata": {
    "interpreter": {
     "hash": "081b6216928d55ece203d92fdcd5214719477f63e022b6b86f3f62fef0361037"
    }
   },
   "name": "python3"
  },
  "language_info": {
   "codemirror_mode": {
    "name": "ipython",
    "version": 3
   },
   "file_extension": ".py",
   "mimetype": "text/x-python",
   "name": "python",
   "nbconvert_exporter": "python",
   "pygments_lexer": "ipython3",
   "version": "3.8.5"
  },
  "orig_nbformat": 2
 },
 "nbformat": 4,
 "nbformat_minor": 2
}