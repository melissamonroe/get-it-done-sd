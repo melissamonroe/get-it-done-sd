{
 "cells": [
  {
   "cell_type": "code",
   "execution_count": 64,
   "metadata": {},
   "outputs": [],
   "source": [
    "%load_ext autoreload\r\n",
    "%autoreload 2"
   ]
  },
  {
   "cell_type": "code",
   "execution_count": 65,
   "metadata": {},
   "outputs": [],
   "source": [
    "# Dependencies\r\n",
    "import requests\r\n",
    "import pymongo\r\n",
    "import dns\r\n",
    "import datetime\r\n",
    "from datetime import datetime\r\n",
    "from dateutil import parser\r\n",
    "import pytz\r\n",
    "from django.utils import timezone\r\n",
    "from time import sleep\r\n",
    "import random\r\n",
    "import json\r\n",
    "import config\r\n",
    "import requests\r\n",
    "from flask_cors import CORS\r\n",
    "\r\n",
    "# Project defined dependencies\r\n",
    "import config\r\n",
    "from pprint import pprint\r\n",
    "# import cl_parser\r\n"
   ]
  },
  {
   "cell_type": "code",
   "execution_count": 66,
   "metadata": {},
   "outputs": [],
   "source": [
    "# Initialize PyMongo to work with MongoDBs\r\n",
    "client = pymongo.MongoClient(config.mongo_conn)"
   ]
  },
  {
   "cell_type": "code",
   "execution_count": 67,
   "metadata": {},
   "outputs": [],
   "source": [
    "# Define database and collection\r\n",
    "db = client.getitdone_db\r\n",
    "SR_collection = db.sandiego\r\n",
    "summary_collection = db.summary_counts"
   ]
  },
  {
   "cell_type": "code",
   "execution_count": 68,
   "metadata": {},
   "outputs": [
    {
     "name": "stdout",
     "output_type": "stream",
     "text": [
      "3190603\n"
     ]
    }
   ],
   "source": [
    "for SR in SR_collection.find():\r\n",
    "    print(SR['service_request_id'])\r\n",
    "    break"
   ]
  },
  {
   "cell_type": "code",
   "execution_count": 69,
   "metadata": {},
   "outputs": [
    {
     "data": {
      "text/plain": "1"
     },
     "execution_count": 69,
     "metadata": {},
     "output_type": "execute_result"
    }
   ],
   "source": [
    "summary_collection.count_documents({'year':2021})"
   ]
  },
  {
   "cell_type": "code",
   "execution_count": 70,
   "metadata": {},
   "outputs": [
    {
     "data": {
      "text/plain": "1"
     },
     "execution_count": 70,
     "metadata": {},
     "output_type": "execute_result"
    }
   ],
   "source": [
    "summary_collection.count_documents({'year':2021})"
   ]
  },
  {
   "cell_type": "code",
   "execution_count": 71,
   "metadata": {},
   "outputs": [
    {
     "name": "stdout",
     "output_type": "stream",
     "text": [
      "{'_id': ObjectId('606bc96f90ae90d638d6c766'), 'year': 2019, 'summary': {'01-January': 19285, '02-February': 21736, '03-March': 23412, '04-April': 23070, '05-May': 24885, '06-June': 25819, '07-July': 33100, '08-August': 34470, '09-September': 28657, '10-October': 27163, '11-November': 23375, '12-December': 24233}, 'chart_url': 'https://charts.mongodb.com/charts-dev-exqny/embed/charts?id=6cdc5a0f-6300-48cb-95b2-27fae819b23d&autoRefresh=1800&theme=light', 'chart_url_council_dist': 'https://charts.mongodb.com/charts-dev-exqny/embed/charts?id=f5da86cd-f5b9-41ef-a58c-9b9d308d37c5&autoRefresh=1800&theme=light', 'total_closed': 258716, 'percent_closed': 0.836713507220129, 'total_requested': 309205, 'average_case_age_days': 51.116042754806685}\n"
     ]
    }
   ],
   "source": [
    "for summary_obj in summary_collection.find():\r\n",
    "    print(summary_obj)\r\n",
    "    break"
   ]
  },
  {
   "cell_type": "code",
   "execution_count": null,
   "metadata": {},
   "outputs": [],
   "source": [
    "currentMonth = datetime.now().month\r\n",
    "print(currentMonth)\r\n",
    "type(currentMonth)"
   ]
  },
  {
   "cell_type": "code",
   "execution_count": null,
   "metadata": {},
   "outputs": [],
   "source": [
    "\r\n",
    "local = pytz.timezone(\"America/Los_Angeles\")\r\n",
    "dt_start = datetime.strptime(\"2021-\" + str(currentMonth) + \"-1 00:00:00\", \"%Y-%m-%d %H:%M:%S\")\r\n",
    "dt_start_local = local.localize(dt_start, is_dst=None)\r\n",
    "dt_start_utc = dt_start_local.astimezone(pytz.utc)\r\n",
    "\r\n",
    "dt_end = datetime.strptime(\"2021-\" + str(currentMonth + 1) + \"-1 00:00:00\", \"%Y-%m-%d %H:%M:%S\")\r\n",
    "dt_end_local = local.localize(dt_end, is_dst=None)\r\n",
    "dt_end_utc = dt_end_local.astimezone(pytz.utc)\r\n",
    "\r\n",
    " \r\n",
    "print(dt_start_utc, dt_end_utc)"
   ]
  },
  {
   "cell_type": "code",
   "execution_count": 75,
   "metadata": {},
   "outputs": [],
   "source": [
    "year = 2020\r\n",
    "local = pytz.timezone(\"America/Los_Angeles\")\r\n",
    "dt_start = datetime.strptime(str(year) + \"-1-1 00:00:00\", \"%Y-%m-%d %H:%M:%S\")\r\n",
    "dt_start_local = local.localize(dt_start, is_dst=None)\r\n",
    "dt_start_utc = dt_start_local.astimezone(pytz.utc)\r\n",
    "\r\n",
    "dt_end = datetime.strptime(str(year + 1) +\"-1-1 00:00:00\", \"%Y-%m-%d %H:%M:%S\")\r\n",
    "dt_end_local = local.localize(dt_end, is_dst=None)\r\n",
    "dt_end_utc = dt_end_local.astimezone(pytz.utc)\r\n",
    "\r\n",
    "filter_requested ={\r\n",
    "    'date_requested': {\r\n",
    "        '$gte': dt_start_utc, \r\n",
    "        '$lt': dt_end_utc\r\n",
    "    }\r\n",
    "}\r\n",
    "filter_closed ={\r\n",
    "    'date_requested': {\r\n",
    "        '$gte': dt_start_utc, \r\n",
    "        '$lt': dt_end_utc\r\n",
    "    }, 'status':\"Closed\"\r\n",
    "}\r\n",
    "\r\n",
    "\r\n",
    "total_requested = SR_collection.count_documents(filter=filter_requested)\r\n",
    "\r\n",
    "sum_case_age_days = 0\r\n",
    "for SR in SR_collection.find(filter=filter_requested):\r\n",
    "    if 'case_age_days' in SR:\r\n",
    "        sum_case_age_days += int(SR[\"case_age_days\"])\r\n",
    "\r\n",
    "total_closed = SR_collection.count_documents(filter=filter_closed)\r\n",
    "\r\n"
   ]
  },
  {
   "cell_type": "code",
   "execution_count": 76,
   "metadata": {},
   "outputs": [
    {
     "name": "stdout",
     "output_type": "stream",
     "text": [
      "2020-01-01 08:00:00+00:00 2021-01-01 08:00:00+00:00\n",
      "286092 235298\n",
      "8045454\n"
     ]
    }
   ],
   "source": [
    "print(dt_start_utc, dt_end_utc)\r\n",
    "print(total_requested, total_closed)\r\n",
    "print(sum_case_age_days)"
   ]
  },
  {
   "cell_type": "code",
   "execution_count": 77,
   "metadata": {},
   "outputs": [],
   "source": [
    "            update_doc = summary_collection.find_one_and_update(\r\n",
    "                {'year' : year},\r\n",
    "                {'$set':\r\n",
    "                    {\r\n",
    "                        \"total_requested\":int(total_requested),\r\n",
    "                        \"total_closed\":int(total_closed),\r\n",
    "                        \"percent_closed\": float(total_closed/total_requested),\r\n",
    "                        \"average_case_age_days\": float(sum_case_age_days/total_requested)\r\n",
    "                        \r\n",
    "                    }\r\n",
    "                    \r\n",
    "                },upsert=True\r\n",
    "            )"
   ]
  },
  {
   "cell_type": "code",
   "execution_count": null,
   "metadata": {},
   "outputs": [],
   "source": [
    "filter={\r\n",
    "    'date_requested': {\r\n",
    "        '$gte': dt_start_utc, \r\n",
    "        '$lt': dt_end_utc\r\n",
    "    }\r\n",
    "}\r\n",
    "\r\n",
    "result = client['getitdone_db']['sandiego'].find(filter=filter)"
   ]
  },
  {
   "cell_type": "code",
   "execution_count": null,
   "metadata": {},
   "outputs": [],
   "source": [
    "i = 0\r\n",
    "date_requested_count = {}  \r\n",
    "date_closed_count = {}\r\n",
    "\r\n",
    "for SR in result:\r\n",
    "    \r\n",
    "    if 'date_requested' in SR:            \r\n",
    "        date_requested_month = SR['date_requested'].month     \r\n",
    "        if (date_requested_month in date_requested_count):\r\n",
    "            date_requested_count[date_requested_month] += 1        \r\n",
    "        else:\r\n",
    "            date_requested_count[date_requested_month] = 1            \r\n",
    "    if 'date_closed' in SR:\r\n",
    "        date_closed_month = SR['date_closed'].month     \r\n",
    "        if (date_closed_month in date_closed_count):\r\n",
    "            date_closed_count[date_closed_month] += 1        \r\n",
    "        else:\r\n",
    "            date_closed_count[date_closed_month] = 1 \r\n",
    "    \r\n",
    "    # SR['case_age_days']\r\n",
    "    # SR['service_name']\r\n",
    "    # SR['case_record_type']    \r\n",
    "    # SR['status']\r\n",
    "    # SR['lat']\r\n",
    "    # SR['lng']\r\n",
    "    # SR['street_address']\r\n",
    "    # SR['council_district']\r\n",
    "    # SR['comm_plan_code']\r\n",
    "    # SR['comm_plan_name']\r\n",
    "    # SR['case_origin']\r\n",
    "    # SR['public_description']   \r\n",
    "\r\n",
    "    # i += 1\r\n",
    "    # if i > 5:\r\n",
    "    #     break"
   ]
  },
  {
   "cell_type": "code",
   "execution_count": null,
   "metadata": {},
   "outputs": [],
   "source": [
    "date_requested_count\r\n"
   ]
  },
  {
   "cell_type": "code",
   "execution_count": null,
   "metadata": {},
   "outputs": [],
   "source": [
    "date_closed_count"
   ]
  },
  {
   "cell_type": "code",
   "execution_count": null,
   "metadata": {},
   "outputs": [],
   "source": [
    "def get_sd_api_data(sd_api_url):\r\n",
    "    print(\"import SR from get it done api\")        \r\n",
    "    response = requests.get(sd_api_url)\r\n",
    "    response_json = response.json()  \r\n",
    "\r\n",
    "    count_insert_SR = 0\r\n",
    "    count_update_SR = 0\r\n",
    "\r\n",
    "    for SR in response_json:\r\n",
    "        public_description = \"\"\r\n",
    "        media_url = \"\"\r\n",
    "\r\n",
    "        # Get the data from the results\r\n",
    "        service_request_id = int(SR[\"service_request_id\"])\r\n",
    "        date_requested_string = SR[\"requested_datetime\"] # or any date sting of differing formats.\r\n",
    "        date_requested = parser.parse(date_requested_string)\r\n",
    "        updated_datetime_string = SR[\"updated_datetime\"] # or any date sting of differing formats.\r\n",
    "        updated_datetime = parser.parse(updated_datetime_string)        \r\n",
    "        \r\n",
    "        if \"description\" in SR:\r\n",
    "            public_description = SR[\"description\"]\r\n",
    "        if 'media_url' in SR:\r\n",
    "            media_url = SR[\"media_url\"]\r\n",
    "\r\n",
    "        if SR_collection.count_documents({'service_request_id': service_request_id}) == 0:\r\n",
    "            print(\"Insert new service request! \")            \r\n",
    "            insert_doc = { \r\n",
    "                \"service_request_id\": service_request_id,\r\n",
    "                \"date_requested\": date_requested,\r\n",
    "                \"date_updated\": updated_datetime,\r\n",
    "                \"status\": SR[\"status\"],\r\n",
    "                \"service_code\": SR[\"service_code\"],\r\n",
    "                \"service_name\": SR[\"service_name\"],\r\n",
    "                \"public_description\": public_description,\r\n",
    "                \"street_address\": SR[\"address\"],\r\n",
    "                \"lat\": float(SR[\"lat\"]),\r\n",
    "                \"lng\": float(SR[\"long\"]),\r\n",
    "                \"media_url\": media_url\r\n",
    "                }\r\n",
    "            doc = SR_collection.insert_one(insert_doc)\r\n",
    "            count_insert_SR += 1\r\n",
    "            # if config.debug:\r\n",
    "            #     print(doc)\r\n",
    "\r\n",
    "        else: \r\n",
    "            print(f\"SR {service_request_id} already exists, update existing service request!\")\r\n",
    "            update_doc = SR_collection.find_one_and_update(\r\n",
    "                {'service_request_id' : service_request_id},\r\n",
    "                {'$set':\r\n",
    "                    {\r\n",
    "                        \"date_requested\": date_requested,\r\n",
    "                        \"date_updated\": updated_datetime,\r\n",
    "                        \"status\": SR[\"status\"],\r\n",
    "                        \"service_code\": SR[\"service_code\"],\r\n",
    "                        \"service_name\": SR[\"service_name\"],\r\n",
    "                        \"public_description\": public_description,\r\n",
    "                        \"street_address\": SR[\"address\"],\r\n",
    "                        \"lat\": float(SR[\"lat\"]),\r\n",
    "                        \"lng\": float(SR[\"long\"]),\r\n",
    "                        \"media_url\": media_url\r\n",
    "                    }\r\n",
    "                    \r\n",
    "                },upsert=True\r\n",
    "            )\r\n",
    "            count_update_SR += 1\r\n",
    "            # if config.debug:\r\n",
    "            #     print(update_doc)\r\n",
    "\r\n",
    "    return f\"{str(count_insert_SR)} SR created. {str(count_update_SR)} SR updated.\"\r\n",
    "\r\n",
    "            "
   ]
  },
  {
   "cell_type": "code",
   "execution_count": null,
   "metadata": {},
   "outputs": [],
   "source": [
    "summary = get_sd_api_data(\"http://san-diego.spotreporters.com/open311/v2/requests.json\")"
   ]
  },
  {
   "cell_type": "code",
   "execution_count": null,
   "metadata": {},
   "outputs": [],
   "source": [
    "print(summary)"
   ]
  },
  {
   "cell_type": "code",
   "execution_count": null,
   "metadata": {},
   "outputs": [],
   "source": []
  }
 ],
 "metadata": {
  "kernelspec": {
   "display_name": "Python 3.8.5 64-bit ('base': conda)",
   "name": "python385jvsc74a57bd0081b6216928d55ece203d92fdcd5214719477f63e022b6b86f3f62fef0361037"
  },
  "language_info": {
   "codemirror_mode": {
    "name": "ipython",
    "version": 3
   },
   "file_extension": ".py",
   "mimetype": "text/x-python",
   "name": "python",
   "nbconvert_exporter": "python",
   "pygments_lexer": "ipython3",
   "version": "3.8.5"
  },
  "orig_nbformat": 2
 },
 "nbformat": 4,
 "nbformat_minor": 2
}