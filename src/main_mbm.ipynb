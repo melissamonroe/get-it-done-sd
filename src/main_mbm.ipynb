{
 "cells": [
  {
   "cell_type": "code",
   "execution_count": null,
   "metadata": {},
   "outputs": [],
   "source": [
    "%load_ext autoreload\n",
    "%autoreload 2"
   ]
  },
  {
   "cell_type": "code",
   "execution_count": null,
   "metadata": {},
   "outputs": [],
   "source": [
    "# Dependencies\n",
    "import requests\n",
    "import pymongo\n",
    "import dns\n",
    "import datetime\n",
    "from datetime import datetime\n",
    "from dateutil import parser\n",
    "import pytz\n",
    "from django.utils import timezone\n",
    "from time import sleep\n",
    "import random\n",
    "import json\n",
    "import config\n",
    "import requests\n",
    "from flask_cors import CORS\n",
    "\n",
    "# Project defined dependencies\n",
    "import config\n",
    "from pprint import pprint\n",
    "# import cl_parser\n"
   ]
  },
  {
   "cell_type": "code",
   "execution_count": null,
   "metadata": {},
   "outputs": [],
   "source": [
    "# Initialize PyMongo to work with MongoDBs\n",
    "client = pymongo.MongoClient(config.mongo_conn)"
   ]
  },
  {
   "cell_type": "code",
   "execution_count": null,
   "metadata": {},
   "outputs": [],
   "source": [
    "# Define database and collection\n",
    "db = client.getitdone_db\n",
    "SR_collection = db.sandiego\n",
    "summary_collection = db.summary_counts"
   ]
  },
  {
   "cell_type": "code",
   "execution_count": null,
   "metadata": {},
   "outputs": [],
   "source": [
    "for SR in SR_collection.find():\n",
    "    print(SR['service_request_id'])\n",
    "    break"
   ]
  },
  {
   "cell_type": "code",
   "execution_count": null,
   "metadata": {},
   "outputs": [],
   "source": [
    "summary_collection.count_documents({'year':2021})"
   ]
  },
  {
   "cell_type": "code",
   "execution_count": null,
   "metadata": {},
   "outputs": [],
   "source": [
    "summary_collection.count_documents({'year':2021})"
   ]
  },
  {
   "cell_type": "code",
   "execution_count": null,
   "metadata": {},
   "outputs": [],
   "source": [
    "for summary_obj in summary_collection.find():\n",
    "    print(summary_obj)\n",
    "    break"
   ]
  },
  {
   "cell_type": "code",
   "execution_count": null,
   "metadata": {},
   "outputs": [],
   "source": [
    "currentMonth = datetime.now().month\n",
    "print(currentMonth)\n",
    "type(currentMonth)"
   ]
  },
  {
   "cell_type": "code",
   "execution_count": null,
   "metadata": {},
   "outputs": [],
   "source": [
    "\n",
    "local = pytz.timezone(\"America/Los_Angeles\")\n",
    "dt_start = datetime.strptime(\"2021-\" + str(currentMonth) + \"-1 00:00:00\", \"%Y-%m-%d %H:%M:%S\")\n",
    "dt_start_local = local.localize(dt_start, is_dst=None)\n",
    "dt_start_utc = dt_start_local.astimezone(pytz.utc)\n",
    "\n",
    "dt_end = datetime.strptime(\"2021-\" + str(currentMonth + 1) + \"-1 00:00:00\", \"%Y-%m-%d %H:%M:%S\")\n",
    "dt_end_local = local.localize(dt_end, is_dst=None)\n",
    "dt_end_utc = dt_end_local.astimezone(pytz.utc)\n",
    "\n",
    " \n",
    "print(dt_start_utc, dt_end_utc)"
   ]
  },
  {
   "cell_type": "code",
   "execution_count": null,
   "metadata": {},
   "outputs": [],
   "source": [
    "year = 2020\n",
    "local = pytz.timezone(\"America/Los_Angeles\")\n",
    "dt_start = datetime.strptime(str(year) + \"-1-1 00:00:00\", \"%Y-%m-%d %H:%M:%S\")\n",
    "dt_start_local = local.localize(dt_start, is_dst=None)\n",
    "dt_start_utc = dt_start_local.astimezone(pytz.utc)\n",
    "\n",
    "dt_end = datetime.strptime(str(year + 1) +\"-1-1 00:00:00\", \"%Y-%m-%d %H:%M:%S\")\n",
    "dt_end_local = local.localize(dt_end, is_dst=None)\n",
    "dt_end_utc = dt_end_local.astimezone(pytz.utc)\n",
    "\n",
    "filter_requested ={\n",
    "    'date_requested': {\n",
    "        '$gte': dt_start_utc, \n",
    "        '$lt': dt_end_utc\n",
    "    }\n",
    "}\n",
    "filter_closed ={\n",
    "    'date_requested': {\n",
    "        '$gte': dt_start_utc, \n",
    "        '$lt': dt_end_utc\n",
    "    }, 'status':\"Closed\"\n",
    "}\n",
    "\n",
    "\n",
    "total_requested = SR_collection.count_documents(filter=filter_requested)\n",
    "\n",
    "sum_case_age_days = 0\n",
    "for SR in SR_collection.find(filter=filter_requested):\n",
    "    if 'case_age_days' in SR:\n",
    "        sum_case_age_days += int(SR[\"case_age_days\"])\n",
    "\n",
    "total_closed = SR_collection.count_documents(filter=filter_closed)\n",
    "\n"
   ]
  },
  {
   "cell_type": "code",
   "execution_count": null,
   "metadata": {},
   "outputs": [],
   "source": [
    "print(dt_start_utc, dt_end_utc)\n",
    "print(total_requested, total_closed)\n",
    "print(sum_case_age_days)"
   ]
  },
  {
   "cell_type": "code",
   "execution_count": null,
   "metadata": {},
   "outputs": [],
   "source": [
    "            update_doc = summary_collection.find_one_and_update(\n",
    "                {'year' : year},\n",
    "                {'$set':\n",
    "                    {\n",
    "                        \"total_requested\":int(total_requested),\n",
    "                        \"total_closed\":int(total_closed),\n",
    "                        \"percent_closed\": float(total_closed/total_requested),\n",
    "                        \"average_case_age_days\": float(sum_case_age_days/total_requested)\n",
    "                        \n",
    "                    }\n",
    "                    \n",
    "                },upsert=True\n",
    "            )"
   ]
  },
  {
   "cell_type": "code",
   "execution_count": null,
   "metadata": {},
   "outputs": [],
   "source": [
    "def updateDistricts(district):\n",
    "    filter_requested ={'council_district': district}\n",
    "    filter_closed ={'council_district': district, 'status':\"Closed\"}\n",
    "    \n",
    "    total_requested = SR_collection.count_documents(filter=filter_requested)\n",
    "\n",
    "    sum_case_age_days = 0\n",
    "    for SR in SR_collection.find(filter=filter_requested):\n",
    "        if 'case_age_days' in SR:\n",
    "            sum_case_age_days += int(SR[\"case_age_days\"])\n",
    "\n",
    "    total_closed = SR_collection.count_documents(filter=filter_closed)\n",
    "    \n",
    "    update_doc = summary_collection.find_one_and_update(\n",
    "                {'district' : district},\n",
    "                {'$set':\n",
    "                    {\n",
    "                        \"total_requested\":int(total_requested),\n",
    "                        \"total_closed\":int(total_closed),\n",
    "                        \"percent_closed\": float(total_closed/total_requested),\n",
    "                        \"average_case_age_days\": float(sum_case_age_days/total_requested)\n",
    "                        \n",
    "                    }\n",
    "                    \n",
    "                },upsert=True\n",
    "            )\n",
    "    \n",
    "districts = [1,2,3,4,5,6,7,8,9]\n",
    "for district in districts:\n",
    "    updateDistricts(district)"
   ]
  },
  {
   "cell_type": "code",
   "execution_count": null,
   "metadata": {},
   "outputs": [],
   "source": [
    "filter={\n",
    "    'date_requested': {\n",
    "        '$gte': dt_start_utc, \n",
    "        '$lt': dt_end_utc\n",
    "    }\n",
    "}\n",
    "\n",
    "result = client['getitdone_db']['sandiego'].find(filter=filter)"
   ]
  },
  {
   "cell_type": "code",
   "execution_count": null,
   "metadata": {},
   "outputs": [],
   "source": [
    "i = 0\n",
    "date_requested_count = {}  \n",
    "date_closed_count = {}\n",
    "\n",
    "for SR in result:\n",
    "    \n",
    "    if 'date_requested' in SR:            \n",
    "        date_requested_month = SR['date_requested'].month     \n",
    "        if (date_requested_month in date_requested_count):\n",
    "            date_requested_count[date_requested_month] += 1        \n",
    "        else:\n",
    "            date_requested_count[date_requested_month] = 1            \n",
    "    if 'date_closed' in SR:\n",
    "        date_closed_month = SR['date_closed'].month     \n",
    "        if (date_closed_month in date_closed_count):\n",
    "            date_closed_count[date_closed_month] += 1        \n",
    "        else:\n",
    "            date_closed_count[date_closed_month] = 1 \n",
    "    \n",
    "    # SR['case_age_days']\n",
    "    # SR['service_name']\n",
    "    # SR['case_record_type']    \n",
    "    # SR['status']\n",
    "    # SR['lat']\n",
    "    # SR['lng']\n",
    "    # SR['street_address']\n",
    "    # SR['council_district']\n",
    "    # SR['comm_plan_code']\n",
    "    # SR['comm_plan_name']\n",
    "    # SR['case_origin']\n",
    "    # SR['public_description']   \n",
    "\n",
    "    # i += 1\n",
    "    # if i > 5:\n",
    "    #     break"
   ]
  },
  {
   "cell_type": "code",
   "execution_count": null,
   "metadata": {},
   "outputs": [],
   "source": [
    "date_requested_count\n"
   ]
  },
  {
   "cell_type": "code",
   "execution_count": null,
   "metadata": {},
   "outputs": [],
   "source": [
    "date_closed_count"
   ]
  },
  {
   "cell_type": "code",
   "execution_count": null,
   "metadata": {},
   "outputs": [],
   "source": [
    "def get_sd_api_data(sd_api_url):\n",
    "    print(\"import SR from get it done api\")        \n",
    "    response = requests.get(sd_api_url)\n",
    "    response_json = response.json()  \n",
    "\n",
    "    count_insert_SR = 0\n",
    "    count_update_SR = 0\n",
    "\n",
    "    for SR in response_json:\n",
    "        public_description = \"\"\n",
    "        media_url = \"\"\n",
    "\n",
    "        # Get the data from the results\n",
    "        service_request_id = int(SR[\"service_request_id\"])\n",
    "        date_requested_string = SR[\"requested_datetime\"] # or any date sting of differing formats.\n",
    "        date_requested = parser.parse(date_requested_string)\n",
    "        updated_datetime_string = SR[\"updated_datetime\"] # or any date sting of differing formats.\n",
    "        updated_datetime = parser.parse(updated_datetime_string)        \n",
    "        \n",
    "        if \"description\" in SR:\n",
    "            public_description = SR[\"description\"]\n",
    "        if 'media_url' in SR:\n",
    "            media_url = SR[\"media_url\"]\n",
    "\n",
    "        if SR_collection.count_documents({'service_request_id': service_request_id}) == 0:\n",
    "            print(\"Insert new service request! \")            \n",
    "            insert_doc = { \n",
    "                \"service_request_id\": service_request_id,\n",
    "                \"date_requested\": date_requested,\n",
    "                \"date_updated\": updated_datetime,\n",
    "                \"status\": SR[\"status\"],\n",
    "                \"service_code\": SR[\"service_code\"],\n",
    "                \"service_name\": SR[\"service_name\"],\n",
    "                \"public_description\": public_description,\n",
    "                \"street_address\": SR[\"address\"],\n",
    "                \"lat\": float(SR[\"lat\"]),\n",
    "                \"lng\": float(SR[\"long\"]),\n",
    "                \"media_url\": media_url\n",
    "                }\n",
    "            doc = SR_collection.insert_one(insert_doc)\n",
    "            count_insert_SR += 1\n",
    "            # if config.debug:\n",
    "            #     print(doc)\n",
    "\n",
    "        else: \n",
    "            print(f\"SR {service_request_id} already exists, update existing service request!\")\n",
    "            update_doc = SR_collection.find_one_and_update(\n",
    "                {'service_request_id' : service_request_id},\n",
    "                {'$set':\n",
    "                    {\n",
    "                        \"date_requested\": date_requested,\n",
    "                        \"date_updated\": updated_datetime,\n",
    "                        \"status\": SR[\"status\"],\n",
    "                        \"service_code\": SR[\"service_code\"],\n",
    "                        \"service_name\": SR[\"service_name\"],\n",
    "                        \"public_description\": public_description,\n",
    "                        \"street_address\": SR[\"address\"],\n",
    "                        \"lat\": float(SR[\"lat\"]),\n",
    "                        \"lng\": float(SR[\"long\"]),\n",
    "                        \"media_url\": media_url\n",
    "                    }\n",
    "                    \n",
    "                },upsert=True\n",
    "            )\n",
    "            count_update_SR += 1\n",
    "            # if config.debug:\n",
    "            #     print(update_doc)\n",
    "\n",
    "    return f\"{str(count_insert_SR)} SR created. {str(count_update_SR)} SR updated.\"\n",
    "\n",
    "            "
   ]
  },
  {
   "cell_type": "code",
   "execution_count": null,
   "metadata": {},
   "outputs": [],
   "source": [
    "summary = get_sd_api_data(\"http://san-diego.spotreporters.com/open311/v2/requests.json\")"
   ]
  },
  {
   "cell_type": "code",
   "execution_count": null,
   "metadata": {},
   "outputs": [],
   "source": [
    "print(summary)"
   ]
  },
  {
   "cell_type": "code",
   "execution_count": null,
   "metadata": {},
   "outputs": [],
   "source": []
  }
 ],
 "metadata": {
  "kernelspec": {
   "display_name": "Python 3",
   "language": "python",
   "name": "python3"
  },
  "language_info": {
   "codemirror_mode": {
    "name": "ipython",
    "version": 3
   },
   "file_extension": ".py",
   "mimetype": "text/x-python",
   "name": "python",
   "nbconvert_exporter": "python",
   "pygments_lexer": "ipython3",
   "version": "3.8.5"
  }
 },
 "nbformat": 4,
 "nbformat_minor": 2
}
